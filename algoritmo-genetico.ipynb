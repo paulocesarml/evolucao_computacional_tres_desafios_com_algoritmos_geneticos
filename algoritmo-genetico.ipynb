{
 "cells": [
  {
   "cell_type": "markdown",
   "metadata": {},
   "source": [
    "<h1>Fitting a Linear Model</h1>"
   ]
  },
  {
   "cell_type": "code",
   "execution_count": null,
   "metadata": {},
   "outputs": [],
   "source": [
    "import pygad\n",
    "import numpy"
   ]
  },
  {
   "cell_type": "code",
   "execution_count": null,
   "metadata": {},
   "outputs": [],
   "source": [
    "print(pygad.__version__)"
   ]
  },
  {
   "cell_type": "code",
   "execution_count": null,
   "metadata": {},
   "outputs": [],
   "source": [
    "function_inputs = [4,-2,3.5,5,-11,-4.7]\n",
    "desired_output = 44"
   ]
  },
  {
   "cell_type": "code",
   "execution_count": null,
   "metadata": {},
   "outputs": [],
   "source": [
    "sol_per_pop = 50\n",
    "num_genes = len(function_inputs)\n",
    "init_range_low = -2\n",
    "init_range_high = 5\n",
    "mutation_percent_genes=1\n",
    "\n",
    "num_generations = 50\n",
    "num_parents_mating = 1"
   ]
  },
  {
   "cell_type": "code",
   "execution_count": null,
   "id": "0611955f",
   "metadata": {},
   "outputs": [],
   "source": [
    "def fitness_func(ga_instance, solution, solution_idx):\n",
    "    output = numpy.sum(solution*function_inputs)\n",
    "    fitness = 1.0 / numpy.abs(output - desired_output)\n",
    "    return fitness"
   ]
  },
  {
   "cell_type": "code",
   "execution_count": null,
   "metadata": {},
   "outputs": [],
   "source": [
    "ga_instance = pygad.GA(num_generations=num_generations,\n",
    "                      num_parents_mating=num_parents_mating,\n",
    "                      fitness_func=fitness_func,\n",
    "                      sol_per_pop=sol_per_pop,\n",
    "                      num_genes=num_genes,\n",
    "                      init_range_low=init_range_low,\n",
    "                      init_range_high=init_range_high,\n",
    "                      mutation_percent_genes=mutation_percent_genes)"
   ]
  },
  {
   "cell_type": "code",
   "execution_count": null,
   "metadata": {},
   "outputs": [],
   "source": [
    "ga_instance.run()"
   ]
  },
  {
   "cell_type": "code",
   "execution_count": null,
   "metadata": {},
   "outputs": [],
   "source": [
    "ga_instance.plot_fitness()"
   ]
  },
  {
   "cell_type": "code",
   "execution_count": null,
   "metadata": {},
   "outputs": [],
   "source": [
    "solution, solution_fitness, solution_idx = ga_instance.best_solution()\n",
    "print(\"Parameter of the best solution : {solution} \".format(solution=solution))\n",
    "print(\"Fitness value of the best solution = {solution_fitness} \".format(solution_fitness=solution_fitness))\n",
    "print(\"Index of the best solution : {solution_idx} \".format(solution_idx=solution_idx))"
   ]
  },
  {
   "cell_type": "code",
   "execution_count": null,
   "metadata": {},
   "outputs": [],
   "source": [
    "4*3.80961028-2*(-1.92661386)+3.5*3.9231342+5*4.17204428-11*(-0.43580074)-4.7*3.07987898"
   ]
  },
  {
   "cell_type": "markdown",
   "metadata": {},
   "source": [
    "<h1>Reproducing Images</h1>"
   ]
  },
  {
   "cell_type": "code",
   "execution_count": null,
   "metadata": {},
   "outputs": [],
   "source": [
    "import imageio\n",
    "import numpy\n",
    "import functools\n",
    "import operator\n",
    "import pygad\n",
    "import matplotlib.pyplot"
   ]
  },
  {
   "cell_type": "code",
   "execution_count": null,
   "metadata": {},
   "outputs": [],
   "source": [
    "def img2chromosome(img_arr):\n",
    "    return numpy.reshape(a=img_arr, newshape=(functools.reduce(operator.mul, img_arr.shape)))"
   ]
  },
  {
   "cell_type": "code",
   "execution_count": null,
   "metadata": {},
   "outputs": [],
   "source": [
    "def chromosome2img(vector, shape):\n",
    "    # Check if the vector can be reshaped according to the specified shape.\n",
    "    if len(vector) != functools.reduce(operator.mul, shape):\n",
    "        raise ValueError(\"A vector of length {vector_length} into an array of shape {shape}.\".format(vector_length=len(vector), shape=shape))\n",
    "\n",
    "    return numpy.reshape(a=vector, newshape=shape)"
   ]
  },
  {
   "cell_type": "code",
   "execution_count": null,
   "metadata": {},
   "outputs": [],
   "source": [
    "target_im = imageio.imread('img/fruit2.jpg')\n",
    "target_im = numpy.asarray(target_im/255, dtype=numpy.float64)"
   ]
  },
  {
   "cell_type": "code",
   "execution_count": null,
   "metadata": {},
   "outputs": [],
   "source": [
    "target_chromosome = img2chromosome(target_im)"
   ]
  },
  {
   "cell_type": "code",
   "execution_count": null,
   "metadata": {},
   "outputs": [],
   "source": [
    "def fitness_fun(ga_instance, solution, solution_idx):\n",
    "    fitness = numpy.sum(numpy.abs(target_chromosome-solution))\n",
    "\n",
    "    # Negating the fitness value to make it increasing rather than decreasing.\n",
    "    fitness = numpy.sum(target_chromosome) - fitness\n",
    "    return fitness"
   ]
  },
  {
   "cell_type": "code",
   "execution_count": null,
   "metadata": {},
   "outputs": [],
   "source": [
    "ga_instance = pygad.GA(num_generations=20000,\n",
    "                       num_parents_mating=10,\n",
    "                       fitness_func=fitness_fun,\n",
    "                       sol_per_pop=20,\n",
    "                       num_genes=target_im.size,\n",
    "                       init_range_low=0.0,\n",
    "                       init_range_high=1.0,\n",
    "                       mutation_percent_genes=0.01,\n",
    "                       mutation_type=\"random\",\n",
    "                       mutation_by_replacement=True,\n",
    "                       random_mutation_min_val=0.0,\n",
    "                       random_mutation_max_val=1.0)"
   ]
  },
  {
   "cell_type": "code",
   "execution_count": null,
   "metadata": {},
   "outputs": [],
   "source": [
    "ga_instance.run()"
   ]
  },
  {
   "cell_type": "code",
   "execution_count": null,
   "metadata": {},
   "outputs": [],
   "source": [
    "ga_instance.plot_fitness()"
   ]
  },
  {
   "cell_type": "code",
   "execution_count": null,
   "metadata": {},
   "outputs": [],
   "source": [
    "solution, solution_fitness, solution_idx = ga_instance.best_solution()\n",
    "print(\"Fitness valuef the best solution = {solution_fitness} \".format(solution_fitness=solution_fitness))\n",
    "print(\"Index of the best solution : {solution_idx} \".format(solution_idx=solution_idx))"
   ]
  },
  {
   "cell_type": "code",
   "execution_count": null,
   "metadata": {},
   "outputs": [],
   "source": [
    "result = chromosome2img(solution, target_im.shape)\n",
    "matplotlib.pyplot.imshow(result)\n",
    "matplotlib.pyplot.show()"
   ]
  },
  {
   "cell_type": "markdown",
   "metadata": {},
   "source": [
    "<h1>Problema da Mochila </h1>"
   ]
  },
  {
   "cell_type": "code",
   "execution_count": null,
   "metadata": {},
   "outputs": [],
   "source": [
    "import pygad\n",
    "import random\n",
    "import numpy as np"
   ]
  },
  {
   "cell_type": "code",
   "execution_count": null,
   "metadata": {},
   "outputs": [],
   "source": [
    "peso_produtos =  [7, 8, 4, 10, 4, 6, 4, 1, 1, 1, 1, 1, 1, 2, 1, 1, 1, 1, 1, 1, 1, 1, 1,  2,  5,  7, 1, 2,  5, 9,  8, 2, 3,  4,  6, 5, 10, 20]\n",
    "valor_produtos = [5, 8, 3,  2, 7, 9, 4, 9, 9, 9, 9, 9, 9, 8, 9, 9, 9, 9, 9, 9, 9, 9, 4, 10, 14,  2, 4, 8, 10, 5, 20, 2, 7, 25, 12, 9, 1, 200]\n",
    "\n",
    "peso_permitido_produtos = 22"
   ]
  },
  {
   "cell_type": "code",
   "execution_count": null,
   "metadata": {},
   "outputs": [],
   "source": [
    "#cromossomo = numpy. [random.randint(0, 1), random.randint(0, 1), random.randint(0, 1), random.randint(0, 1),\n",
    "#            random.randint(0, 1), random.randint(0, 1), random.randint(0, 1)]\n",
    "\n",
    "num_linhas = 100\n",
    "num_colunas = len(peso_produtos)\n",
    "\n",
    "cromossomos = np.ones(num_linhas*num_colunas)\n",
    "cromossomos = [ random.randint(0,1) for x in cromossomos]\n",
    "cromossomos = np.asarray(cromossomos)\n",
    "cromossomos = cromossomos.reshape(num_linhas,num_colunas)"
   ]
  },
  {
   "cell_type": "code",
   "execution_count": null,
   "metadata": {},
   "outputs": [],
   "source": [
    "cromossomos"
   ]
  },
  {
   "cell_type": "code",
   "execution_count": null,
   "metadata": {},
   "outputs": [],
   "source": [
    "def fitness_func(ga_instance, solution, solution_idx):\n",
    "\n",
    "    peso_produtos_selecionados = np.sum(solution * peso_produtos)\n",
    "\n",
    "    valor_produtos_selecionados = np.sum(solution * valor_produtos)\n",
    "\n",
    "    peso_ultrapassado = peso_produtos_selecionados-peso_permitido_produtos if peso_produtos_selecionados-peso_permitido_produtos > 0 else 0\n",
    "\n",
    "    fitness = (valor_produtos_selecionados*10)-(peso_permitido_produtos*(peso_ultrapassado**2))\n",
    "\n",
    "    return fitness"
   ]
  },
  {
   "cell_type": "code",
   "execution_count": null,
   "metadata": {},
   "outputs": [],
   "source": [
    "ga_instance = pygad.GA(num_generations=200,\n",
    "                      num_parents_mating=5,\n",
    "                      fitness_func=fitness_func,\n",
    "                      num_genes=num_colunas,\n",
    "                      initial_population=cromossomos,\n",
    "                      mutation_percent_genes=0.01,\n",
    "                      mutation_type=\"random\",\n",
    "                      sol_per_pop=num_linhas,\n",
    "                      mutation_num_genes=1,\n",
    "                      mutation_by_replacement=True,\n",
    "                      random_mutation_min_val=0,\n",
    "                      random_mutation_max_val=1,\n",
    "                      crossover_type=\"two_points\")"
   ]
  },
  {
   "cell_type": "code",
   "execution_count": null,
   "metadata": {},
   "outputs": [],
   "source": [
    "ga_instance.run()"
   ]
  },
  {
   "cell_type": "code",
   "execution_count": null,
   "metadata": {},
   "outputs": [],
   "source": [
    "ga_instance.plot_fitness()"
   ]
  },
  {
   "cell_type": "code",
   "execution_count": null,
   "metadata": {},
   "outputs": [],
   "source": [
    "solution, solution_fitness, solution_idx = ga_instance.best_solution()\n",
    "solution = np.around(solution)\n",
    "print(\"Parameter of the best solution : {solution} \".format(solution=solution))\n",
    "print(\"Pesos = \", peso_produtos)\n",
    "print(\"valor_produto\", valor_produtos)\n",
    "print(\"Fitness value of the best solution = {solution_fitness} \".format(solution_fitness=solution_fitness))\n",
    "print(\"Index of the best solution : {solution_idx} \".format(solution_idx=solution_idx))\n",
    "\n",
    "print('Peso = ', np.sum(solution*peso_produtos))\n",
    "print('Valor = ', np.sum(solution*valor_produtos))"
   ]
  },
  {
   "cell_type": "code",
   "execution_count": null,
   "metadata": {},
   "outputs": [],
   "source": [
    "import matplotlib.pyplot as plt\n",
    "\n",
    "image = np.random.rand(30, 30)\n",
    "plt.imshow(image, cmap=plt.cm.jet)    \n",
    "plt.colorbar()\n",
    "plt.show()"
   ]
  }
 ],
 "metadata": {
  "kernelspec": {
   "display_name": "estudos",
   "language": "python",
   "name": "python3"
  },
  "language_info": {
   "codemirror_mode": {
    "name": "ipython",
    "version": 3
   },
   "file_extension": ".py",
   "mimetype": "text/x-python",
   "name": "python",
   "nbconvert_exporter": "python",
   "pygments_lexer": "ipython3",
   "version": "3.11.11"
  }
 },
 "nbformat": 4,
 "nbformat_minor": 5
}
